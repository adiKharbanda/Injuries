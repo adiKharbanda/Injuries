{
 "cells": [
  {
   "cell_type": "code",
   "execution_count": 6,
   "metadata": {
    "collapsed": true
   },
   "outputs": [],
   "source": [
    "import pandas as pd"
   ]
  },
  {
   "cell_type": "code",
   "execution_count": 7,
   "metadata": {
    "collapsed": false
   },
   "outputs": [
    {
     "data": {
      "text/html": [
       "<div>\n",
       "<table border=\"1\" class=\"dataframe\">\n",
       "  <thead>\n",
       "    <tr style=\"text-align: right;\">\n",
       "      <th></th>\n",
       "      <th>CPSC Case #</th>\n",
       "      <th>trmt_date</th>\n",
       "      <th>psu</th>\n",
       "      <th>weight</th>\n",
       "      <th>stratum</th>\n",
       "      <th>age</th>\n",
       "      <th>sex</th>\n",
       "      <th>race</th>\n",
       "      <th>race_other</th>\n",
       "      <th>diag</th>\n",
       "      <th>diag_other</th>\n",
       "      <th>body_part</th>\n",
       "      <th>disposition</th>\n",
       "      <th>location</th>\n",
       "      <th>fmv</th>\n",
       "      <th>prod1</th>\n",
       "      <th>prod2</th>\n",
       "      <th>narrative</th>\n",
       "    </tr>\n",
       "  </thead>\n",
       "  <tbody>\n",
       "    <tr>\n",
       "      <th>0</th>\n",
       "      <td>141200216</td>\n",
       "      <td>10/23/14</td>\n",
       "      <td>63</td>\n",
       "      <td>99.704</td>\n",
       "      <td>M</td>\n",
       "      <td>21</td>\n",
       "      <td>Female</td>\n",
       "      <td>None listed</td>\n",
       "      <td>NaN</td>\n",
       "      <td>62</td>\n",
       "      <td>NaN</td>\n",
       "      <td>75</td>\n",
       "      <td>1</td>\n",
       "      <td>1</td>\n",
       "      <td>0</td>\n",
       "      <td>679</td>\n",
       "      <td>1807.0</td>\n",
       "      <td>21YOF LAYING ON THE COUCH AND ROLLED OFF TO TH...</td>\n",
       "    </tr>\n",
       "    <tr>\n",
       "      <th>1</th>\n",
       "      <td>140117851</td>\n",
       "      <td>1/4/14</td>\n",
       "      <td>63</td>\n",
       "      <td>81.576</td>\n",
       "      <td>M</td>\n",
       "      <td>62</td>\n",
       "      <td>Female</td>\n",
       "      <td>White</td>\n",
       "      <td>NaN</td>\n",
       "      <td>57</td>\n",
       "      <td>NaN</td>\n",
       "      <td>79</td>\n",
       "      <td>1</td>\n",
       "      <td>1</td>\n",
       "      <td>0</td>\n",
       "      <td>1807</td>\n",
       "      <td>115.0</td>\n",
       "      <td>62YOF TRIPPED OVER THE CORD FOR THE VACUUM CLE...</td>\n",
       "    </tr>\n",
       "    <tr>\n",
       "      <th>2</th>\n",
       "      <td>150144993</td>\n",
       "      <td>8/17/14</td>\n",
       "      <td>63</td>\n",
       "      <td>99.704</td>\n",
       "      <td>M</td>\n",
       "      <td>21</td>\n",
       "      <td>Female</td>\n",
       "      <td>None listed</td>\n",
       "      <td>NaN</td>\n",
       "      <td>57</td>\n",
       "      <td>NaN</td>\n",
       "      <td>83</td>\n",
       "      <td>1</td>\n",
       "      <td>0</td>\n",
       "      <td>0</td>\n",
       "      <td>1333</td>\n",
       "      <td>NaN</td>\n",
       "      <td>21YOF FELL OFF A SKATEBOARD AND FRACTURED FOOT</td>\n",
       "    </tr>\n",
       "  </tbody>\n",
       "</table>\n",
       "</div>"
      ],
      "text/plain": [
       "   CPSC Case # trmt_date  psu  weight stratum  age     sex         race  \\\n",
       "0    141200216  10/23/14   63  99.704       M   21  Female  None listed   \n",
       "1    140117851    1/4/14   63  81.576       M   62  Female        White   \n",
       "2    150144993   8/17/14   63  99.704       M   21  Female  None listed   \n",
       "\n",
       "  race_other  diag diag_other  body_part  disposition  location  fmv  prod1  \\\n",
       "0        NaN    62        NaN         75            1         1    0    679   \n",
       "1        NaN    57        NaN         79            1         1    0   1807   \n",
       "2        NaN    57        NaN         83            1         0    0   1333   \n",
       "\n",
       "    prod2                                          narrative  \n",
       "0  1807.0  21YOF LAYING ON THE COUCH AND ROLLED OFF TO TH...  \n",
       "1   115.0  62YOF TRIPPED OVER THE CORD FOR THE VACUUM CLE...  \n",
       "2     NaN    21YOF FELL OFF A SKATEBOARD AND FRACTURED FOOT   "
      ]
     },
     "execution_count": 7,
     "metadata": {},
     "output_type": "execute_result"
    }
   ],
   "source": [
    "# read the dataset \n",
    "NEISS_df=pd.read_csv('NEISS2014.csv')\n",
    "#NEISS_df.info()\n",
    "NEISS_df.head(3)\n",
    "\n",
    "#TODO handling NA columns\n",
    "#not sure about this method with respect to different columns and whether we should be dropping data or just replacing it\n",
    "#NEISS_df.dropna()\n",
    "#NEISS_df.fillna(value)\n"
   ]
  },
  {
   "cell_type": "code",
   "execution_count": 8,
   "metadata": {
    "collapsed": false
   },
   "outputs": [
    {
     "data": {
      "text/html": [
       "<div>\n",
       "<table border=\"1\" class=\"dataframe\">\n",
       "  <thead>\n",
       "    <tr style=\"text-align: right;\">\n",
       "      <th></th>\n",
       "      <th>BodyPart</th>\n",
       "      <th>Code</th>\n",
       "    </tr>\n",
       "  </thead>\n",
       "  <tbody>\n",
       "    <tr>\n",
       "      <th>0</th>\n",
       "      <td>Arm, lower</td>\n",
       "      <td>33</td>\n",
       "    </tr>\n",
       "    <tr>\n",
       "      <th>1</th>\n",
       "      <td>Arm, upper</td>\n",
       "      <td>80</td>\n",
       "    </tr>\n",
       "    <tr>\n",
       "      <th>2</th>\n",
       "      <td>Ankle</td>\n",
       "      <td>37</td>\n",
       "    </tr>\n",
       "  </tbody>\n",
       "</table>\n",
       "</div>"
      ],
      "text/plain": [
       "     BodyPart  Code\n",
       "0  Arm, lower    33\n",
       "1  Arm, upper    80\n",
       "2       Ankle    37"
      ]
     },
     "execution_count": 8,
     "metadata": {},
     "output_type": "execute_result"
    }
   ],
   "source": [
    "bodyparts=pd.read_csv('BodyParts.csv')\n",
    "bodyparts.head(3)"
   ]
  },
  {
   "cell_type": "code",
   "execution_count": 13,
   "metadata": {
    "collapsed": false
   },
   "outputs": [
    {
     "data": {
      "text/html": [
       "<div>\n",
       "<table border=\"1\" class=\"dataframe\">\n",
       "  <thead>\n",
       "    <tr style=\"text-align: right;\">\n",
       "      <th></th>\n",
       "      <th>Diagnosis</th>\n",
       "      <th>Code</th>\n",
       "    </tr>\n",
       "  </thead>\n",
       "  <tbody>\n",
       "    <tr>\n",
       "      <th>0</th>\n",
       "      <td>Amputation</td>\n",
       "      <td>50</td>\n",
       "    </tr>\n",
       "    <tr>\n",
       "      <th>1</th>\n",
       "      <td>Anoxia</td>\n",
       "      <td>65</td>\n",
       "    </tr>\n",
       "    <tr>\n",
       "      <th>2</th>\n",
       "      <td>Aspirated foreign object</td>\n",
       "      <td>42</td>\n",
       "    </tr>\n",
       "  </tbody>\n",
       "</table>\n",
       "</div>"
      ],
      "text/plain": [
       "                  Diagnosis  Code\n",
       "0                Amputation    50\n",
       "1                    Anoxia    65\n",
       "2  Aspirated foreign object    42"
      ]
     },
     "execution_count": 13,
     "metadata": {},
     "output_type": "execute_result"
    }
   ],
   "source": [
    "diagnosis_codes=pd.read_csv('DiagnosisCodes.csv')\n",
    "diagnosis_codes.head(3)"
   ]
  },
  {
   "cell_type": "markdown",
   "metadata": {},
   "source": [
    "# Question 1"
   ]
  },
  {
   "cell_type": "code",
   "execution_count": 14,
   "metadata": {
    "collapsed": false
   },
   "outputs": [
    {
     "data": {
      "text/html": [
       "<div>\n",
       "<table border=\"1\" class=\"dataframe\">\n",
       "  <thead>\n",
       "    <tr style=\"text-align: right;\">\n",
       "      <th></th>\n",
       "      <th>Code</th>\n",
       "      <th>Frequency</th>\n",
       "      <th>BodyPart</th>\n",
       "    </tr>\n",
       "  </thead>\n",
       "  <tbody>\n",
       "    <tr>\n",
       "      <th>0</th>\n",
       "      <td>75</td>\n",
       "      <td>9891</td>\n",
       "      <td>Head</td>\n",
       "    </tr>\n",
       "    <tr>\n",
       "      <th>1</th>\n",
       "      <td>76</td>\n",
       "      <td>5786</td>\n",
       "      <td>Face</td>\n",
       "    </tr>\n",
       "    <tr>\n",
       "      <th>2</th>\n",
       "      <td>92</td>\n",
       "      <td>5783</td>\n",
       "      <td>Finger</td>\n",
       "    </tr>\n",
       "  </tbody>\n",
       "</table>\n",
       "</div>"
      ],
      "text/plain": [
       "   Code  Frequency BodyPart\n",
       "0    75       9891     Head\n",
       "1    76       5786     Face\n",
       "2    92       5783   Finger"
      ]
     },
     "execution_count": 14,
     "metadata": {},
     "output_type": "execute_result"
    }
   ],
   "source": [
    "#Question 1\n",
    "body_part_count=NEISS_df['body_part'].value_counts()\n",
    "\n",
    "# alterntively could have done this as well rather than using value_counts\n",
    "#NEISS_df.groupby('body_part').size().sort_values(ascending=False).head(3)\n",
    "\n",
    "# Top 3 body parts  most frequently represented in the dataset\n",
    "top3_mostfrequent_body_part=body_part_count.head(3)\n",
    "top3_mostfrequent_body_part_df = pd.DataFrame({'Code':top3_mostfrequent_body_part.index, 'Frequency':top3_mostfrequent_body_part.values})\n",
    "\n",
    "pd.merge(top3_mostfrequent_body_part_df, bodyparts, how='inner', on='Code')\n"
   ]
  },
  {
   "cell_type": "code",
   "execution_count": 15,
   "metadata": {
    "collapsed": false
   },
   "outputs": [
    {
     "data": {
      "text/html": [
       "<div>\n",
       "<table border=\"1\" class=\"dataframe\">\n",
       "  <thead>\n",
       "    <tr style=\"text-align: right;\">\n",
       "      <th></th>\n",
       "      <th>Code</th>\n",
       "      <th>Frequency</th>\n",
       "      <th>BodyPart</th>\n",
       "    </tr>\n",
       "  </thead>\n",
       "  <tbody>\n",
       "    <tr>\n",
       "      <th>0</th>\n",
       "      <td>87</td>\n",
       "      <td>390</td>\n",
       "      <td>Not Recorded</td>\n",
       "    </tr>\n",
       "    <tr>\n",
       "      <th>1</th>\n",
       "      <td>38</td>\n",
       "      <td>286</td>\n",
       "      <td>Pubic region</td>\n",
       "    </tr>\n",
       "    <tr>\n",
       "      <th>2</th>\n",
       "      <td>84</td>\n",
       "      <td>4</td>\n",
       "      <td>25-50% of body</td>\n",
       "    </tr>\n",
       "  </tbody>\n",
       "</table>\n",
       "</div>"
      ],
      "text/plain": [
       "   Code  Frequency        BodyPart\n",
       "0    87        390    Not Recorded\n",
       "1    38        286    Pubic region\n",
       "2    84          4  25-50% of body"
      ]
     },
     "execution_count": 15,
     "metadata": {},
     "output_type": "execute_result"
    }
   ],
   "source": [
    "# Top 3 body parts least frequently represented in the dataset\n",
    "top3_leastfrequent_body_part=body_part_count.tail(3)\n",
    "top3_leastfrequent_body_part = pd.DataFrame({'Code':top3_leastfrequent_body_part.index, 'Frequency':top3_leastfrequent_body_part.values})\n",
    "\n",
    "pd.merge(top3_leastfrequent_body_part, bodyparts, how='inner', on='Code')"
   ]
  },
  {
   "cell_type": "markdown",
   "metadata": {
    "collapsed": true
   },
   "source": [
    "# Question 2"
   ]
  },
  {
   "cell_type": "code",
   "execution_count": 16,
   "metadata": {
    "collapsed": false
   },
   "outputs": [
    {
     "name": "stdout",
     "output_type": "stream",
     "text": [
      "Total number of skateboard injuries: 495\n"
     ]
    }
   ],
   "source": [
    "#Question 2\n",
    "\n",
    "#from the pdf file product code for skateboard injuries is 1333\n",
    "\n",
    "skateboard_injuries_df = NEISS_df[(NEISS_df['prod1'] == 1333) | ((NEISS_df['prod2'] == 1333))]\n",
    "skateboard_injuries_df_2 = skateboard_injuries_df[['age', 'sex']]\n",
    "\n",
    "#Total number of skateboard injuries\n",
    "skateboard_injuries_total = len(skateboard_injuries_df.index)\n",
    "\n",
    "print(\"Total number of skateboard injuries: %d\"%(skateboard_injuries_total))"
   ]
  },
  {
   "cell_type": "code",
   "execution_count": 21,
   "metadata": {
    "collapsed": false
   },
   "outputs": [
    {
     "name": "stdout",
     "output_type": "stream",
     "text": [
      "approx male injuries: 82.02\n",
      "approx female injuries: 17.98\n"
     ]
    }
   ],
   "source": [
    "#male and female injuries involving skateboard\n",
    "skateboard_injuries_male = len(skateboard_injuries_df_2[skateboard_injuries_df_2['sex'] == 'Male'].index)\n",
    "skateboard_injuries_female = len(skateboard_injuries_df_2[skateboard_injuries_df_2['sex'] == 'Female'].index)\n",
    "\n",
    "print(\"approx male injuries: %0.2f\"%(float(skateboard_injuries_male*100)/skateboard_injuries_total))\n",
    "print(\"approx female injuries: %0.2f\"%(float(skateboard_injuries_female*100)/skateboard_injuries_total))\n"
   ]
  },
  {
   "cell_type": "code",
   "execution_count": 26,
   "metadata": {
    "collapsed": false
   },
   "outputs": [
    {
     "data": {
      "text/plain": [
       "17.89090909090909"
      ]
     },
     "execution_count": 26,
     "metadata": {},
     "output_type": "execute_result"
    }
   ],
   "source": [
    "#Average age of someone injured in skateboard injury\n",
    "skateboard_injuries_df_2['age'].mean()\n",
    "\n",
    "#FIXME:Haven't yet converted the age given in months into years. So, the above answer might be skewed\n",
    "#Basic check suggests that the skateboard injuries does not include age>=200 i.e (age given in months)\n",
    "#len(skateboard_injuries_df_2[skateboard_injuries_df_2['age']>=200])"
   ]
  },
  {
   "cell_type": "markdown",
   "metadata": {
    "collapsed": true
   },
   "source": [
    "# Question 3"
   ]
  },
  {
   "cell_type": "code",
   "execution_count": 28,
   "metadata": {
    "collapsed": false
   },
   "outputs": [
    {
     "data": {
      "text/html": [
       "<div>\n",
       "<table border=\"1\" class=\"dataframe\">\n",
       "  <thead>\n",
       "    <tr style=\"text-align: right;\">\n",
       "      <th></th>\n",
       "      <th>Code</th>\n",
       "      <th>Frequency</th>\n",
       "      <th>Diagnosis</th>\n",
       "    </tr>\n",
       "  </thead>\n",
       "  <tbody>\n",
       "    <tr>\n",
       "      <th>0</th>\n",
       "      <td>57</td>\n",
       "      <td>2166</td>\n",
       "      <td>Fracture</td>\n",
       "    </tr>\n",
       "  </tbody>\n",
       "</table>\n",
       "</div>"
      ],
      "text/plain": [
       "   Code  Frequency Diagnosis\n",
       "0    57       2166  Fracture"
      ]
     },
     "execution_count": 28,
     "metadata": {},
     "output_type": "execute_result"
    }
   ],
   "source": [
    "#Question 3\n",
    "\n",
    "#select all the rows that correspond to hospitalization\n",
    "#assume codes 2, 4, 5 are meant for hospitalization, filtering out rows that correspond to hospitalization\n",
    "hospitialization_df = NEISS_df[NEISS_df['disposition'].isin([2,4,5])]\n",
    "\n",
    "hospitialization_diagnosis_frequency = hospitialization_df['diag'].value_counts()\n",
    "hospitialization_diagnosis_df = pd.DataFrame({'Code':hospitialization_diagnosis_frequency.index, 'Frequency':hospitialization_diagnosis_frequency.values})\n",
    "\n",
    "# Diagnosis that had the highest hospitalization rate\n",
    "pd.merge(hospitialization_diagnosis_df, diagnosis_codes, how='inner', on='Code').head(1)"
   ]
  },
  {
   "cell_type": "code",
   "execution_count": 31,
   "metadata": {
    "collapsed": false
   },
   "outputs": [
    {
     "data": {
      "text/html": [
       "<div>\n",
       "<table border=\"1\" class=\"dataframe\">\n",
       "  <thead>\n",
       "    <tr style=\"text-align: right;\">\n",
       "      <th></th>\n",
       "      <th>Code</th>\n",
       "      <th>Frequency</th>\n",
       "      <th>Diagnosis</th>\n",
       "    </tr>\n",
       "  </thead>\n",
       "  <tbody>\n",
       "    <tr>\n",
       "      <th>0</th>\n",
       "      <td>71</td>\n",
       "      <td>257</td>\n",
       "      <td>Other/Not Stated</td>\n",
       "    </tr>\n",
       "  </tbody>\n",
       "</table>\n",
       "</div>"
      ],
      "text/plain": [
       "   Code  Frequency         Diagnosis\n",
       "0    71        257  Other/Not Stated"
      ]
     },
     "execution_count": 31,
     "metadata": {},
     "output_type": "execute_result"
    }
   ],
   "source": [
    "#What diagnosis most often concluded with the individual leaving without being seen?\n",
    "\n",
    "#assume code 6 is meant for leaving without being seen, filtering out rows that correspond to that\n",
    "\n",
    "left_without_seen_df = NEISS_df[NEISS_df['disposition'] == 6]\n",
    "\n",
    "left_without_seen_df_frequency = left_without_seen_df['diag'].value_counts()\n",
    "left_without_seen_diagnosis_df = pd.DataFrame({'Code':left_without_seen_df_frequency.index, 'Frequency':left_without_seen_df_frequency.values})\n",
    "pd.merge(left_without_seen_diagnosis_df, diagnosis_codes, how='inner', on='Code').head(1)\n"
   ]
  },
  {
   "cell_type": "code",
   "execution_count": null,
   "metadata": {
    "collapsed": true
   },
   "outputs": [],
   "source": [
    "### Observations\n",
    "# In case for dispostion leaving without being seen the above numbers are approximate and need more filtering, because:\n",
    "# 1. Disposition code for leaving without being seen and  Left against medical advice are the same, \n",
    "# so there is a good chance that the above number has cases from `Left against medical advice`\n",
    "# 2. Diagnosis `other/not stated ` is a broad diagnosis. We can further use the `diag_other` column to get more detailed analysis"
   ]
  }
 ],
 "metadata": {
  "kernelspec": {
   "display_name": "Python 2",
   "language": "python",
   "name": "python2"
  },
  "language_info": {
   "codemirror_mode": {
    "name": "ipython",
    "version": 2
   },
   "file_extension": ".py",
   "mimetype": "text/x-python",
   "name": "python",
   "nbconvert_exporter": "python",
   "pygments_lexer": "ipython2",
   "version": "2.7.13"
  }
 },
 "nbformat": 4,
 "nbformat_minor": 2
}
